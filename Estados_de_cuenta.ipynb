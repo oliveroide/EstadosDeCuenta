{
 "cells": [
  {
   "cell_type": "code",
   "execution_count": 13,
   "metadata": {},
   "outputs": [],
   "source": [
    "import tabula\n",
    "import pandas as pd\n",
    "import csv\n",
    "import re\n",
    "df = pd.read_csv('./EstadosDeCuenta/tabula-EstadoDeCuentaAbril.csv', skiprows=[1],index_col='Fecha')\n",
    "# Elimina columnas innecesarias\n",
    "mes = \"Abril\"\n",
    "df = df.drop(columns=[\"Población / RFC\", \"Otras\"]) \n",
    "# Elimina filas donde TODAS las celdas están vacías\n",
    "df = df.dropna(how=\"all\") \n",
    "# Elimina filas si faltan datos clave \n",
    "df = df.dropna(subset=[\"Concepto/Giro de Negocio\", \"Pesos\"])  \n",
    "# Elimina filas si contienen texto genérico\n",
    "df = df[df[\"Concepto/Giro de Negocio\"] != \"Concepto/Giro de Negocio\"]  \n",
    "df[\"Pesos\"] = (\n",
    "    df[\"Pesos\"]\n",
    "    .str.replace(\",\", \"\")     # Eliminar comas (ej: 5,600.04 → 5600.04)\n",
    "    .apply(lambda x: f\"-{x[:-1]}\" if x.endswith(\"-\") else x) # Reemplazar guiones al final por negativos (ej: 8000.00- → -8000.00)\n",
    "    .str.replace(r\"-$\", \"\", regex=True)  # Eliminar guiones al final (ej: 8000.00- → 8000.00)\n",
    "  \n",
    "    .str.replace(r\"\\.+\", \".\", regex=True)  # Reemplazar múltiples puntos por uno (ej: 269.00.. → 269.00)\n",
    "    .str.replace(r\"\\.{2,}\", \".\", regex=True)  # Reemplazar 2+ puntos por 1 (269.00. → 269.00)\n",
    "    .str.replace(r\"\\.$\", \"\", regex=True) # Eliminar punto al final (269.00. → 269.00)\n",
    "    .astype(float)            # Convertir a número\n",
    ")\n",
    "#print(df.head())\n",
    "#print(df)\n",
    "# Guardar el resultado\n",
    "#df.to_csv(F\"datos_finales{mes}.csv\", index=False)\n",
    "\n",
    "# Mostrar el DataFrame limpio\n",
    "#print(df)\n",
    "# Cargar el DataFrame limpio (previo a este análisis)\n",
    "\n"
   ]
  }
 ],
 "metadata": {
  "kernelspec": {
   "display_name": "Python 3",
   "language": "python",
   "name": "python3"
  },
  "language_info": {
   "codemirror_mode": {
    "name": "ipython",
    "version": 3
   },
   "file_extension": ".py",
   "mimetype": "text/x-python",
   "name": "python",
   "nbconvert_exporter": "python",
   "pygments_lexer": "ipython3",
   "version": "3.13.2"
  }
 },
 "nbformat": 4,
 "nbformat_minor": 2
}
