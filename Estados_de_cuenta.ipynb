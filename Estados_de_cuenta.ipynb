{
 "cells": [
  {
   "cell_type": "code",
   "execution_count": 29,
   "metadata": {},
   "outputs": [
    {
     "name": "stdout",
     "output_type": "stream",
     "text": [
      "             Pesos\n",
      "count    47.000000\n",
      "mean    358.892340\n",
      "std    1514.162726\n",
      "min   -8000.000000\n",
      "25%     121.000000\n",
      "50%     274.000000\n",
      "75%     617.485000\n",
      "max    5600.040000\n"
     ]
    },
    {
     "data": {
      "text/plain": [
       "Concepto/Giro de Negocio    INTL HMOD FEDEX H CTROFEH 940630UG2AMAZON MX A...\n",
       "Pesos                                                                16867.94\n",
       "dtype: object"
      ]
     },
     "execution_count": 29,
     "metadata": {},
     "output_type": "execute_result"
    }
   ],
   "source": [
    "import tabula\n",
    "import pandas as pd\n",
    "import csv\n",
    "import re\n",
    "import matplotlib.pyplot as plt\n",
    "df = pd.read_csv('./EstadosDeCuenta/tabula-EstadoDeCuentaAbril.csv', skiprows=[1],index_col='Fecha')\n",
    "# Elimina columnas innecesarias\n",
    "meses = [\"Enero\", \"Febrero\", \"Marzo\", \"Abril\", \"Mayo\", \"Junio\", \"Julio\", \"Agosto\", \"Septiembre\", \"Octubre\", \"Noviembre\", \"Diciembre\"]\n",
    "#for mes in meses:\n",
    "#    df_mes = pd.read_csv(f'./EstadosDeCuenta/tabula-EstadoDeCuenta{mes}.csv', skiprows=[1],index_col='Fecha')\n",
    "\n",
    "df = df.drop(columns=[\"Población / RFC\", \"Otras\"]) \n",
    "# Elimina filas donde TODAS las celdas están vacías\n",
    "df = df.dropna(how=\"all\") \n",
    "# Elimina filas si faltan datos clave \n",
    "df = df.dropna(subset=[\"Concepto/Giro de Negocio\", \"Pesos\"])  \n",
    "# Elimina filas si contienen texto genérico\n",
    "df = df[df[\"Concepto/Giro de Negocio\"] != \"Concepto/Giro de Negocio\"]  \n",
    "df[\"Pesos\"] = (\n",
    "    df[\"Pesos\"]\n",
    "    .str.replace(\",\", \"\")     # Eliminar comas (ej: 5,600.04 → 5600.04)\n",
    "    .apply(lambda x: f\"-{x[:-1]}\" if x.endswith(\"-\") else x) # Reemplazar guiones al final por negativos (ej: 8000.00- → -8000.00)\n",
    "    .str.replace(r\"-$\", \"\", regex=True)  # Eliminar guiones al final (ej: 8000.00- → 8000.00)\n",
    "  \n",
    "    .str.replace(r\"\\.+\", \".\", regex=True)  # Reemplazar múltiples puntos por uno (ej: 269.00.. → 269.00)\n",
    "    .str.replace(r\"\\.{2,}\", \".\", regex=True)  # Reemplazar 2+ puntos por 1 (269.00. → 269.00)\n",
    "    .str.replace(r\"\\.$\", \"\", regex=True) # Eliminar punto al final (269.00. → 269.00)\n",
    "    .astype(float)            # Convertir a número\n",
    ")\n",
    "\n",
    "#print(df.head())\n",
    "print(df.describe())\n",
    "#print(df)\n",
    "df.sum()\n",
    "#plt.bar(df.index, df[\"Pesos\"])\n",
    "#plt.boxplot(df[\"Pesos\"])\n",
    "# Guardar el resultado\n",
    "#df.to_csv(F\"datos_finales{mes}.csv\", index=False)\n",
    "\n",
    "# Mostrar el DataFrame limpio\n",
    "#print(df)\n",
    "# Cargar el DataFrame limpio (previo a este análisis)\n",
    "\n"
   ]
  }
 ],
 "metadata": {
  "kernelspec": {
   "display_name": "Python 3",
   "language": "python",
   "name": "python3"
  },
  "language_info": {
   "codemirror_mode": {
    "name": "ipython",
    "version": 3
   },
   "file_extension": ".py",
   "mimetype": "text/x-python",
   "name": "python",
   "nbconvert_exporter": "python",
   "pygments_lexer": "ipython3",
   "version": "3.13.3"
  }
 },
 "nbformat": 4,
 "nbformat_minor": 2
}
