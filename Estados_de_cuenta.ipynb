{
 "cells": [
  {
   "cell_type": "code",
   "execution_count": null,
   "metadata": {},
   "outputs": [],
   "source": [
    "import tabula\n",
    "import pandas as pd\n",
    "import csv\n",
    "import re\n",
    "import matplotlib.pyplot as plt\n"
   ]
  },
  {
   "cell_type": "code",
   "execution_count": 45,
   "metadata": {},
   "outputs": [],
   "source": [
    "df = pd.read_csv('./EstadosDeCuenta/tabula-EstadoDeCuentaAbril.csv', skiprows=[1],index_col='Fecha')\n"
   ]
  },
  {
   "cell_type": "code",
   "execution_count": 46,
   "metadata": {},
   "outputs": [
    {
     "data": {
      "text/html": [
       "<div>\n",
       "<style scoped>\n",
       "    .dataframe tbody tr th:only-of-type {\n",
       "        vertical-align: middle;\n",
       "    }\n",
       "\n",
       "    .dataframe tbody tr th {\n",
       "        vertical-align: top;\n",
       "    }\n",
       "\n",
       "    .dataframe thead th {\n",
       "        text-align: right;\n",
       "    }\n",
       "</style>\n",
       "<table border=\"1\" class=\"dataframe\">\n",
       "  <thead>\n",
       "    <tr style=\"text-align: right;\">\n",
       "      <th></th>\n",
       "      <th>Concepto/Giro de Negocio</th>\n",
       "      <th>Pesos</th>\n",
       "    </tr>\n",
       "    <tr>\n",
       "      <th>Fecha</th>\n",
       "      <th></th>\n",
       "      <th></th>\n",
       "    </tr>\n",
       "  </thead>\n",
       "  <tbody>\n",
       "    <tr>\n",
       "      <th>Abr  4</th>\n",
       "      <td>INTL HMOD FEDEX H CTROFEH 940630UG2</td>\n",
       "      <td>555.52</td>\n",
       "    </tr>\n",
       "    <tr>\n",
       "      <th>Abr  5</th>\n",
       "      <td>AMAZON MX A MESES M006 de 012</td>\n",
       "      <td>549.72</td>\n",
       "    </tr>\n",
       "    <tr>\n",
       "      <th>Abr 10</th>\n",
       "      <td>NATIONAL SJDCGA 030612RD5</td>\n",
       "      <td>5600.04</td>\n",
       "    </tr>\n",
       "    <tr>\n",
       "      <th>Abr 10</th>\n",
       "      <td>SU ABONO...GRACIAS</td>\n",
       "      <td>-8000.00</td>\n",
       "    </tr>\n",
       "    <tr>\n",
       "      <th>Abr 11</th>\n",
       "      <td>ZTL*RUBENEDUARDOOPM 150323DI1</td>\n",
       "      <td>165.00</td>\n",
       "    </tr>\n",
       "  </tbody>\n",
       "</table>\n",
       "</div>"
      ],
      "text/plain": [
       "                   Concepto/Giro de Negocio    Pesos\n",
       "Fecha                                               \n",
       "Abr  4  INTL HMOD FEDEX H CTROFEH 940630UG2   555.52\n",
       "Abr  5        AMAZON MX A MESES M006 de 012   549.72\n",
       "Abr 10            NATIONAL SJDCGA 030612RD5  5600.04\n",
       "Abr 10                   SU ABONO...GRACIAS -8000.00\n",
       "Abr 11        ZTL*RUBENEDUARDOOPM 150323DI1   165.00"
      ]
     },
     "execution_count": 46,
     "metadata": {},
     "output_type": "execute_result"
    }
   ],
   "source": [
    "df = df.drop(columns =[\"Población / RFC\", \"Otras\"])\n",
    "# Elimina filas donde TODAS las celdas están vacías\n",
    "df = df.dropna(how=\"all\") \n",
    "# Elimina filas si faltan datos clave \n",
    "df = df.dropna(subset=[\"Concepto/Giro de Negocio\", \"Pesos\"])  \n",
    "# Elimina filas si contienen texto genérico\n",
    "df = df[df[\"Concepto/Giro de Negocio\"] != \"Concepto/Giro de Negocio\"]  \n",
    "df[\"Pesos\"] = (\n",
    "    df[\"Pesos\"]\n",
    "    .str.replace(\",\", \"\")     # Eliminar comas (ej: 5,600.04 → 5600.04)\n",
    "    .apply(lambda x: f\"-{x[:-1]}\" if x.endswith(\"-\") else x) # Reemplazar guiones al final por negativos (ej: 8000.00- → -8000.00)\n",
    "    .str.replace(r\"-$\", \"\", regex=True)  # Eliminar guiones al final (ej: 8000.00- → 8000.00)\n",
    "  \n",
    "    .str.replace(r\"\\.+\", \".\", regex=True)  # Reemplazar múltiples puntos por uno (ej: 269.00.. → 269.00)\n",
    "    .str.replace(r\"\\.{2,}\", \".\", regex=True)  # Reemplazar 2+ puntos por 1 (269.00. → 269.00)\n",
    "    .str.replace(r\"\\.$\", \"\", regex=True) # Eliminar punto al final (269.00. → 269.00)\n",
    "    .astype(float)            # Convertir a número\n",
    ")\n",
    "df.head()\n",
    "\n"
   ]
  },
  {
   "cell_type": "code",
   "execution_count": null,
   "metadata": {},
   "outputs": [
    {
     "data": {
      "text/html": [
       "<div>\n",
       "<style scoped>\n",
       "    .dataframe tbody tr th:only-of-type {\n",
       "        vertical-align: middle;\n",
       "    }\n",
       "\n",
       "    .dataframe tbody tr th {\n",
       "        vertical-align: top;\n",
       "    }\n",
       "\n",
       "    .dataframe thead th {\n",
       "        text-align: right;\n",
       "    }\n",
       "</style>\n",
       "<table border=\"1\" class=\"dataframe\">\n",
       "  <thead>\n",
       "    <tr style=\"text-align: right;\">\n",
       "      <th></th>\n",
       "      <th>Pesos</th>\n",
       "    </tr>\n",
       "  </thead>\n",
       "  <tbody>\n",
       "    <tr>\n",
       "      <th>count</th>\n",
       "      <td>47.000000</td>\n",
       "    </tr>\n",
       "    <tr>\n",
       "      <th>mean</th>\n",
       "      <td>358.892340</td>\n",
       "    </tr>\n",
       "    <tr>\n",
       "      <th>std</th>\n",
       "      <td>1514.162726</td>\n",
       "    </tr>\n",
       "    <tr>\n",
       "      <th>min</th>\n",
       "      <td>-8000.000000</td>\n",
       "    </tr>\n",
       "    <tr>\n",
       "      <th>25%</th>\n",
       "      <td>121.000000</td>\n",
       "    </tr>\n",
       "    <tr>\n",
       "      <th>50%</th>\n",
       "      <td>274.000000</td>\n",
       "    </tr>\n",
       "    <tr>\n",
       "      <th>75%</th>\n",
       "      <td>617.485000</td>\n",
       "    </tr>\n",
       "    <tr>\n",
       "      <th>max</th>\n",
       "      <td>5600.040000</td>\n",
       "    </tr>\n",
       "  </tbody>\n",
       "</table>\n",
       "</div>"
      ],
      "text/plain": [
       "             Pesos\n",
       "count    47.000000\n",
       "mean    358.892340\n",
       "std    1514.162726\n",
       "min   -8000.000000\n",
       "25%     121.000000\n",
       "50%     274.000000\n",
       "75%     617.485000\n",
       "max    5600.040000"
      ]
     },
     "execution_count": 43,
     "metadata": {},
     "output_type": "execute_result"
    }
   ],
   "source": [
    "df.describe()\n",
    "#df.sum()"
   ]
  },
  {
   "cell_type": "code",
   "execution_count": null,
   "metadata": {},
   "outputs": [],
   "source": []
  }
 ],
 "metadata": {
  "kernelspec": {
   "display_name": "Python 3",
   "language": "python",
   "name": "python3"
  },
  "language_info": {
   "codemirror_mode": {
    "name": "ipython",
    "version": 3
   },
   "file_extension": ".py",
   "mimetype": "text/x-python",
   "name": "python",
   "nbconvert_exporter": "python",
   "pygments_lexer": "ipython3",
   "version": "3.13.3"
  }
 },
 "nbformat": 4,
 "nbformat_minor": 2
}
